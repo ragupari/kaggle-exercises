{
 "cells": [
  {
   "cell_type": "markdown",
   "id": "c6f8e9de",
   "metadata": {
    "papermill": {
     "duration": 0.008326,
     "end_time": "2024-09-08T06:06:43.868182",
     "exception": false,
     "start_time": "2024-09-08T06:06:43.859856",
     "status": "completed"
    },
    "tags": []
   },
   "source": [
    "**This notebook is an exercise in the [Pandas](https://www.kaggle.com/learn/pandas) course.  You can reference the tutorial at [this link](https://www.kaggle.com/residentmario/creating-reading-and-writing).**\n",
    "\n",
    "---\n"
   ]
  },
  {
   "cell_type": "markdown",
   "id": "3c99d364",
   "metadata": {
    "papermill": {
     "duration": 0.006596,
     "end_time": "2024-09-08T06:06:43.882295",
     "exception": false,
     "start_time": "2024-09-08T06:06:43.875699",
     "status": "completed"
    },
    "tags": []
   },
   "source": [
    "# Introduction\n",
    "\n",
    "The first step in most data analytics projects is reading the data file. In this exercise, you'll create Series and DataFrame objects, both by hand and by reading data files.\n",
    "\n",
    "Run the code cell below to load libraries you will need (including code to check your answers)."
   ]
  },
  {
   "cell_type": "code",
   "execution_count": 1,
   "id": "5ccbe3a4",
   "metadata": {
    "execution": {
     "iopub.execute_input": "2024-09-08T06:06:43.898846Z",
     "iopub.status.busy": "2024-09-08T06:06:43.897677Z",
     "iopub.status.idle": "2024-09-08T06:06:46.261688Z",
     "shell.execute_reply": "2024-09-08T06:06:46.260369Z"
    },
    "papermill": {
     "duration": 2.375384,
     "end_time": "2024-09-08T06:06:46.264712",
     "exception": false,
     "start_time": "2024-09-08T06:06:43.889328",
     "status": "completed"
    },
    "tags": []
   },
   "outputs": [
    {
     "name": "stdout",
     "output_type": "stream",
     "text": [
      "Setup complete.\n"
     ]
    }
   ],
   "source": [
    "import pandas as pd\n",
    "pd.set_option('display.max_rows', 5)\n",
    "from learntools.core import binder; binder.bind(globals())\n",
    "from learntools.pandas.creating_reading_and_writing import *\n",
    "print(\"Setup complete.\")"
   ]
  },
  {
   "cell_type": "markdown",
   "id": "6831a415",
   "metadata": {
    "papermill": {
     "duration": 0.006982,
     "end_time": "2024-09-08T06:06:46.278904",
     "exception": false,
     "start_time": "2024-09-08T06:06:46.271922",
     "status": "completed"
    },
    "tags": []
   },
   "source": [
    "# Exercises"
   ]
  },
  {
   "cell_type": "markdown",
   "id": "489645ca",
   "metadata": {
    "papermill": {
     "duration": 0.006805,
     "end_time": "2024-09-08T06:06:46.293072",
     "exception": false,
     "start_time": "2024-09-08T06:06:46.286267",
     "status": "completed"
    },
    "tags": []
   },
   "source": [
    "## 1.\n",
    "\n",
    "In the cell below, create a DataFrame `fruits` that looks like this:\n",
    "\n",
    "![](https://storage.googleapis.com/kaggle-media/learn/images/Ax3pp2A.png)"
   ]
  },
  {
   "cell_type": "code",
   "execution_count": 2,
   "id": "d9c5f616",
   "metadata": {
    "execution": {
     "iopub.execute_input": "2024-09-08T06:06:46.309644Z",
     "iopub.status.busy": "2024-09-08T06:06:46.309178Z",
     "iopub.status.idle": "2024-09-08T06:06:46.323521Z",
     "shell.execute_reply": "2024-09-08T06:06:46.322294Z"
    },
    "papermill": {
     "duration": 0.025587,
     "end_time": "2024-09-08T06:06:46.326226",
     "exception": false,
     "start_time": "2024-09-08T06:06:46.300639",
     "status": "completed"
    },
    "tags": []
   },
   "outputs": [
    {
     "data": {
      "application/javascript": [
       "parent.postMessage({\"jupyterEvent\": \"custom.exercise_interaction\", \"data\": {\"outcomeType\": 4, \"interactionType\": 1, \"questionType\": 1, \"questionId\": \"1_FruitDfCreation\", \"learnToolsVersion\": \"0.3.4\", \"valueTowardsCompletion\": 0.0, \"failureMessage\": \"\", \"exceptionClass\": \"\", \"trace\": \"\"}}, \"*\")"
      ],
      "text/plain": [
       "<IPython.core.display.Javascript object>"
      ]
     },
     "metadata": {},
     "output_type": "display_data"
    },
    {
     "data": {
      "text/markdown": [
       "<span style=\"color:#ccaa33\">Check:</span> When you've updated the starter code, `check()` will tell you whether your code is correct. You need to update the code that creates variable `fruits`"
      ],
      "text/plain": [
       "Check: When you've updated the starter code, `check()` will tell you whether your code is correct. You need to update the code that creates variable `fruits`"
      ]
     },
     "metadata": {},
     "output_type": "display_data"
    },
    {
     "data": {
      "text/markdown": [],
      "text/plain": [
       "<learntools.core.constants.PlaceholderValue at 0x79e939af1ff0>"
      ]
     },
     "execution_count": 2,
     "metadata": {},
     "output_type": "execute_result"
    }
   ],
   "source": [
    "# Your code goes here. Create a dataframe matching the above diagram and assign it to the variable fruits.\n",
    "fruits = ____\n",
    "\n",
    "# Check your answer\n",
    "q1.check()\n",
    "fruits"
   ]
  },
  {
   "cell_type": "code",
   "execution_count": 3,
   "id": "d3ee0c34",
   "metadata": {
    "execution": {
     "iopub.execute_input": "2024-09-08T06:06:46.344119Z",
     "iopub.status.busy": "2024-09-08T06:06:46.343114Z",
     "iopub.status.idle": "2024-09-08T06:06:46.349045Z",
     "shell.execute_reply": "2024-09-08T06:06:46.347694Z"
    },
    "papermill": {
     "duration": 0.018237,
     "end_time": "2024-09-08T06:06:46.352087",
     "exception": false,
     "start_time": "2024-09-08T06:06:46.333850",
     "status": "completed"
    },
    "tags": []
   },
   "outputs": [],
   "source": [
    "#q1.hint()\n",
    "#q1.solution()"
   ]
  },
  {
   "cell_type": "markdown",
   "id": "c953002b",
   "metadata": {
    "papermill": {
     "duration": 0.007759,
     "end_time": "2024-09-08T06:06:46.368877",
     "exception": false,
     "start_time": "2024-09-08T06:06:46.361118",
     "status": "completed"
    },
    "tags": []
   },
   "source": [
    "## 2.\n",
    "\n",
    "Create a dataframe `fruit_sales` that matches the diagram below:\n",
    "\n",
    "![](https://storage.googleapis.com/kaggle-media/learn/images/CHPn7ZF.png)"
   ]
  },
  {
   "cell_type": "code",
   "execution_count": 4,
   "id": "54079aa4",
   "metadata": {
    "execution": {
     "iopub.execute_input": "2024-09-08T06:06:46.386899Z",
     "iopub.status.busy": "2024-09-08T06:06:46.386368Z",
     "iopub.status.idle": "2024-09-08T06:06:46.402427Z",
     "shell.execute_reply": "2024-09-08T06:06:46.401136Z"
    },
    "papermill": {
     "duration": 0.02833,
     "end_time": "2024-09-08T06:06:46.405265",
     "exception": false,
     "start_time": "2024-09-08T06:06:46.376935",
     "status": "completed"
    },
    "tags": []
   },
   "outputs": [
    {
     "data": {
      "application/javascript": [
       "parent.postMessage({\"jupyterEvent\": \"custom.exercise_interaction\", \"data\": {\"outcomeType\": 4, \"interactionType\": 1, \"questionType\": 1, \"questionId\": \"2_FruitSalesDfCreation\", \"learnToolsVersion\": \"0.3.4\", \"valueTowardsCompletion\": 0.0, \"failureMessage\": \"\", \"exceptionClass\": \"\", \"trace\": \"\"}}, \"*\")"
      ],
      "text/plain": [
       "<IPython.core.display.Javascript object>"
      ]
     },
     "metadata": {},
     "output_type": "display_data"
    },
    {
     "data": {
      "text/markdown": [
       "<span style=\"color:#ccaa33\">Check:</span> When you've updated the starter code, `check()` will tell you whether your code is correct. You need to update the code that creates variable `fruit_sales`"
      ],
      "text/plain": [
       "Check: When you've updated the starter code, `check()` will tell you whether your code is correct. You need to update the code that creates variable `fruit_sales`"
      ]
     },
     "metadata": {},
     "output_type": "display_data"
    },
    {
     "data": {
      "text/markdown": [],
      "text/plain": [
       "<learntools.core.constants.PlaceholderValue at 0x79e939af1ff0>"
      ]
     },
     "execution_count": 4,
     "metadata": {},
     "output_type": "execute_result"
    }
   ],
   "source": [
    "# Your code goes here. Create a dataframe matching the above diagram and assign it to the variable fruit_sales.\n",
    "fruit_sales = ____\n",
    "\n",
    "# Check your answer\n",
    "q2.check()\n",
    "fruit_sales"
   ]
  },
  {
   "cell_type": "code",
   "execution_count": 5,
   "id": "35abf44f",
   "metadata": {
    "execution": {
     "iopub.execute_input": "2024-09-08T06:06:46.423849Z",
     "iopub.status.busy": "2024-09-08T06:06:46.423375Z",
     "iopub.status.idle": "2024-09-08T06:06:46.428692Z",
     "shell.execute_reply": "2024-09-08T06:06:46.427383Z"
    },
    "papermill": {
     "duration": 0.017702,
     "end_time": "2024-09-08T06:06:46.431305",
     "exception": false,
     "start_time": "2024-09-08T06:06:46.413603",
     "status": "completed"
    },
    "tags": []
   },
   "outputs": [],
   "source": [
    "#q2.hint()\n",
    "#q2.solution()"
   ]
  },
  {
   "cell_type": "markdown",
   "id": "5f87d6b0",
   "metadata": {
    "papermill": {
     "duration": 0.008027,
     "end_time": "2024-09-08T06:06:46.447698",
     "exception": false,
     "start_time": "2024-09-08T06:06:46.439671",
     "status": "completed"
    },
    "tags": []
   },
   "source": [
    "## 3.\n",
    "\n",
    "Create a variable `ingredients` with a Series that looks like:\n",
    "\n",
    "```\n",
    "Flour     4 cups\n",
    "Milk       1 cup\n",
    "Eggs     2 large\n",
    "Spam       1 can\n",
    "Name: Dinner, dtype: object\n",
    "```"
   ]
  },
  {
   "cell_type": "code",
   "execution_count": 6,
   "id": "2fb5b703",
   "metadata": {
    "execution": {
     "iopub.execute_input": "2024-09-08T06:06:46.466977Z",
     "iopub.status.busy": "2024-09-08T06:06:46.466054Z",
     "iopub.status.idle": "2024-09-08T06:06:46.482285Z",
     "shell.execute_reply": "2024-09-08T06:06:46.481093Z"
    },
    "papermill": {
     "duration": 0.029407,
     "end_time": "2024-09-08T06:06:46.485529",
     "exception": false,
     "start_time": "2024-09-08T06:06:46.456122",
     "status": "completed"
    },
    "tags": []
   },
   "outputs": [
    {
     "data": {
      "application/javascript": [
       "parent.postMessage({\"jupyterEvent\": \"custom.exercise_interaction\", \"data\": {\"outcomeType\": 4, \"interactionType\": 1, \"questionType\": 2, \"questionId\": \"3_RecipeSeriesCreation\", \"learnToolsVersion\": \"0.3.4\", \"valueTowardsCompletion\": 0.0, \"failureMessage\": \"\", \"exceptionClass\": \"\", \"trace\": \"\"}}, \"*\")"
      ],
      "text/plain": [
       "<IPython.core.display.Javascript object>"
      ]
     },
     "metadata": {},
     "output_type": "display_data"
    },
    {
     "data": {
      "text/markdown": [
       "<span style=\"color:#ccaa33\">Check:</span> When you've updated the starter code, `check()` will tell you whether your code is correct. You need to update the code that creates variable `ingredients`"
      ],
      "text/plain": [
       "Check: When you've updated the starter code, `check()` will tell you whether your code is correct. You need to update the code that creates variable `ingredients`"
      ]
     },
     "metadata": {},
     "output_type": "display_data"
    },
    {
     "data": {
      "text/markdown": [],
      "text/plain": [
       "<learntools.core.constants.PlaceholderValue at 0x79e939af1ff0>"
      ]
     },
     "execution_count": 6,
     "metadata": {},
     "output_type": "execute_result"
    }
   ],
   "source": [
    "ingredients = ____\n",
    "\n",
    "# Check your answer\n",
    "q3.check()\n",
    "ingredients"
   ]
  },
  {
   "cell_type": "code",
   "execution_count": 7,
   "id": "fbcb5a8a",
   "metadata": {
    "execution": {
     "iopub.execute_input": "2024-09-08T06:06:46.507623Z",
     "iopub.status.busy": "2024-09-08T06:06:46.507024Z",
     "iopub.status.idle": "2024-09-08T06:06:46.512838Z",
     "shell.execute_reply": "2024-09-08T06:06:46.511569Z"
    },
    "papermill": {
     "duration": 0.019209,
     "end_time": "2024-09-08T06:06:46.515612",
     "exception": false,
     "start_time": "2024-09-08T06:06:46.496403",
     "status": "completed"
    },
    "tags": []
   },
   "outputs": [],
   "source": [
    "#q3.hint()\n",
    "#q3.solution()"
   ]
  },
  {
   "cell_type": "markdown",
   "id": "cccd446c",
   "metadata": {
    "papermill": {
     "duration": 0.009051,
     "end_time": "2024-09-08T06:06:46.534036",
     "exception": false,
     "start_time": "2024-09-08T06:06:46.524985",
     "status": "completed"
    },
    "tags": []
   },
   "source": [
    "## 4.\n",
    "\n",
    "Read the following csv dataset of wine reviews into a DataFrame called `reviews`:\n",
    "\n",
    "![](https://storage.googleapis.com/kaggle-media/learn/images/74RCZtU.png)\n",
    "\n",
    "The filepath to the csv file is `../input/wine-reviews/winemag-data_first150k.csv`. The first few lines look like:\n",
    "\n",
    "```\n",
    ",country,description,designation,points,price,province,region_1,region_2,variety,winery\n",
    "0,US,\"This tremendous 100% varietal wine[...]\",Martha's Vineyard,96,235.0,California,Napa Valley,Napa,Cabernet Sauvignon,Heitz\n",
    "1,Spain,\"Ripe aromas of fig, blackberry and[...]\",Carodorum Selección Especial Reserva,96,110.0,Northern Spain,Toro,,Tinta de Toro,Bodega Carmen Rodríguez\n",
    "```"
   ]
  },
  {
   "cell_type": "code",
   "execution_count": 8,
   "id": "4e6e1b32",
   "metadata": {
    "execution": {
     "iopub.execute_input": "2024-09-08T06:06:46.555244Z",
     "iopub.status.busy": "2024-09-08T06:06:46.554645Z",
     "iopub.status.idle": "2024-09-08T06:06:46.569603Z",
     "shell.execute_reply": "2024-09-08T06:06:46.568136Z"
    },
    "papermill": {
     "duration": 0.029267,
     "end_time": "2024-09-08T06:06:46.572803",
     "exception": false,
     "start_time": "2024-09-08T06:06:46.543536",
     "status": "completed"
    },
    "tags": []
   },
   "outputs": [
    {
     "data": {
      "application/javascript": [
       "parent.postMessage({\"jupyterEvent\": \"custom.exercise_interaction\", \"data\": {\"outcomeType\": 4, \"interactionType\": 1, \"questionType\": 1, \"questionId\": \"4_ReadWineCsv\", \"learnToolsVersion\": \"0.3.4\", \"valueTowardsCompletion\": 0.0, \"failureMessage\": \"\", \"exceptionClass\": \"\", \"trace\": \"\"}}, \"*\")"
      ],
      "text/plain": [
       "<IPython.core.display.Javascript object>"
      ]
     },
     "metadata": {},
     "output_type": "display_data"
    },
    {
     "data": {
      "text/markdown": [
       "<span style=\"color:#ccaa33\">Check:</span> When you've updated the starter code, `check()` will tell you whether your code is correct. You need to update the code that creates variable `reviews`"
      ],
      "text/plain": [
       "Check: When you've updated the starter code, `check()` will tell you whether your code is correct. You need to update the code that creates variable `reviews`"
      ]
     },
     "metadata": {},
     "output_type": "display_data"
    },
    {
     "data": {
      "text/markdown": [],
      "text/plain": [
       "<learntools.core.constants.PlaceholderValue at 0x79e939af1ff0>"
      ]
     },
     "execution_count": 8,
     "metadata": {},
     "output_type": "execute_result"
    }
   ],
   "source": [
    "reviews = ____\n",
    "\n",
    "# Check your answer\n",
    "q4.check()\n",
    "reviews"
   ]
  },
  {
   "cell_type": "code",
   "execution_count": 9,
   "id": "7512da75",
   "metadata": {
    "execution": {
     "iopub.execute_input": "2024-09-08T06:06:46.600613Z",
     "iopub.status.busy": "2024-09-08T06:06:46.599415Z",
     "iopub.status.idle": "2024-09-08T06:06:46.605307Z",
     "shell.execute_reply": "2024-09-08T06:06:46.604003Z"
    },
    "papermill": {
     "duration": 0.021418,
     "end_time": "2024-09-08T06:06:46.608086",
     "exception": false,
     "start_time": "2024-09-08T06:06:46.586668",
     "status": "completed"
    },
    "tags": []
   },
   "outputs": [],
   "source": [
    "#q4.hint()\n",
    "#q4.solution()"
   ]
  },
  {
   "cell_type": "markdown",
   "id": "e0502572",
   "metadata": {
    "papermill": {
     "duration": 0.009805,
     "end_time": "2024-09-08T06:06:46.628266",
     "exception": false,
     "start_time": "2024-09-08T06:06:46.618461",
     "status": "completed"
    },
    "tags": []
   },
   "source": [
    "## 5.\n",
    "\n",
    "Run the cell below to create and display a DataFrame called `animals`:"
   ]
  },
  {
   "cell_type": "code",
   "execution_count": 10,
   "id": "abe275cb",
   "metadata": {
    "execution": {
     "iopub.execute_input": "2024-09-08T06:06:46.650780Z",
     "iopub.status.busy": "2024-09-08T06:06:46.649585Z",
     "iopub.status.idle": "2024-09-08T06:06:46.669421Z",
     "shell.execute_reply": "2024-09-08T06:06:46.668092Z"
    },
    "papermill": {
     "duration": 0.034164,
     "end_time": "2024-09-08T06:06:46.672369",
     "exception": false,
     "start_time": "2024-09-08T06:06:46.638205",
     "status": "completed"
    },
    "tags": []
   },
   "outputs": [
    {
     "data": {
      "text/html": [
       "<div>\n",
       "<style scoped>\n",
       "    .dataframe tbody tr th:only-of-type {\n",
       "        vertical-align: middle;\n",
       "    }\n",
       "\n",
       "    .dataframe tbody tr th {\n",
       "        vertical-align: top;\n",
       "    }\n",
       "\n",
       "    .dataframe thead th {\n",
       "        text-align: right;\n",
       "    }\n",
       "</style>\n",
       "<table border=\"1\" class=\"dataframe\">\n",
       "  <thead>\n",
       "    <tr style=\"text-align: right;\">\n",
       "      <th></th>\n",
       "      <th>Cows</th>\n",
       "      <th>Goats</th>\n",
       "    </tr>\n",
       "  </thead>\n",
       "  <tbody>\n",
       "    <tr>\n",
       "      <th>Year 1</th>\n",
       "      <td>12</td>\n",
       "      <td>22</td>\n",
       "    </tr>\n",
       "    <tr>\n",
       "      <th>Year 2</th>\n",
       "      <td>20</td>\n",
       "      <td>19</td>\n",
       "    </tr>\n",
       "  </tbody>\n",
       "</table>\n",
       "</div>"
      ],
      "text/plain": [
       "        Cows  Goats\n",
       "Year 1    12     22\n",
       "Year 2    20     19"
      ]
     },
     "execution_count": 10,
     "metadata": {},
     "output_type": "execute_result"
    }
   ],
   "source": [
    "animals = pd.DataFrame({'Cows': [12, 20], 'Goats': [22, 19]}, index=['Year 1', 'Year 2'])\n",
    "animals"
   ]
  },
  {
   "cell_type": "markdown",
   "id": "f5faf36f",
   "metadata": {
    "papermill": {
     "duration": 0.009665,
     "end_time": "2024-09-08T06:06:46.692054",
     "exception": false,
     "start_time": "2024-09-08T06:06:46.682389",
     "status": "completed"
    },
    "tags": []
   },
   "source": [
    "In the cell below, write code to save this DataFrame to disk as a csv file with the name `cows_and_goats.csv`."
   ]
  },
  {
   "cell_type": "code",
   "execution_count": 11,
   "id": "b1444894",
   "metadata": {
    "execution": {
     "iopub.execute_input": "2024-09-08T06:06:46.713780Z",
     "iopub.status.busy": "2024-09-08T06:06:46.713317Z",
     "iopub.status.idle": "2024-09-08T06:06:46.723390Z",
     "shell.execute_reply": "2024-09-08T06:06:46.722148Z"
    },
    "papermill": {
     "duration": 0.024009,
     "end_time": "2024-09-08T06:06:46.726082",
     "exception": false,
     "start_time": "2024-09-08T06:06:46.702073",
     "status": "completed"
    },
    "tags": []
   },
   "outputs": [
    {
     "data": {
      "application/javascript": [
       "parent.postMessage({\"jupyterEvent\": \"custom.exercise_interaction\", \"data\": {\"outcomeType\": 2, \"failureMessage\": \"Expected file to exist with name `cows_and_goats.csv`\", \"interactionType\": 1, \"questionType\": 2, \"questionId\": \"5_SaveAnimalsCsv\", \"learnToolsVersion\": \"0.3.4\", \"valueTowardsCompletion\": 0.0, \"exceptionClass\": \"\", \"trace\": \"\"}}, \"*\")"
      ],
      "text/plain": [
       "<IPython.core.display.Javascript object>"
      ]
     },
     "metadata": {},
     "output_type": "display_data"
    },
    {
     "data": {
      "text/markdown": [
       "<span style=\"color:#cc3333\">Incorrect:</span> Expected file to exist with name `cows_and_goats.csv`"
      ],
      "text/plain": [
       "Incorrect: Expected file to exist with name `cows_and_goats.csv`"
      ]
     },
     "metadata": {},
     "output_type": "display_data"
    }
   ],
   "source": [
    "# Your code goes here\n",
    "\n",
    "# Check your answer\n",
    "q5.check()"
   ]
  },
  {
   "cell_type": "code",
   "execution_count": 12,
   "id": "904ddd7e",
   "metadata": {
    "execution": {
     "iopub.execute_input": "2024-09-08T06:06:46.749100Z",
     "iopub.status.busy": "2024-09-08T06:06:46.748057Z",
     "iopub.status.idle": "2024-09-08T06:06:46.753481Z",
     "shell.execute_reply": "2024-09-08T06:06:46.752284Z"
    },
    "papermill": {
     "duration": 0.019767,
     "end_time": "2024-09-08T06:06:46.756081",
     "exception": false,
     "start_time": "2024-09-08T06:06:46.736314",
     "status": "completed"
    },
    "tags": []
   },
   "outputs": [],
   "source": [
    "#q5.hint()\n",
    "#q5.solution()"
   ]
  },
  {
   "cell_type": "markdown",
   "id": "4cb23595",
   "metadata": {
    "papermill": {
     "duration": 0.01005,
     "end_time": "2024-09-08T06:06:46.776746",
     "exception": false,
     "start_time": "2024-09-08T06:06:46.766696",
     "status": "completed"
    },
    "tags": []
   },
   "source": [
    "# Keep going\n",
    "\n",
    "Move on to learn about **[indexing, selecting and assigning](https://www.kaggle.com/residentmario/indexing-selecting-assigning)**."
   ]
  },
  {
   "cell_type": "markdown",
   "id": "a75f55d7",
   "metadata": {
    "papermill": {
     "duration": 0.010332,
     "end_time": "2024-09-08T06:06:46.798268",
     "exception": false,
     "start_time": "2024-09-08T06:06:46.787936",
     "status": "completed"
    },
    "tags": []
   },
   "source": [
    "---\n",
    "\n",
    "\n",
    "\n",
    "\n",
    "*Have questions or comments? Visit the [course discussion forum](https://www.kaggle.com/learn/pandas/discussion) to chat with other learners.*"
   ]
  }
 ],
 "metadata": {
  "kaggle": {
   "accelerator": "none",
   "dataSources": [
    {
     "datasetId": 655,
     "sourceId": 1252,
     "sourceType": "datasetVersion"
    },
    {
     "datasetId": 2321,
     "sourceId": 3919,
     "sourceType": "datasetVersion"
    },
    {
     "datasetId": 2894,
     "sourceId": 4877,
     "sourceType": "datasetVersion"
    },
    {
     "datasetId": 3491,
     "sourceId": 5624,
     "sourceType": "datasetVersion"
    },
    {
     "datasetId": 1442,
     "sourceId": 8172,
     "sourceType": "datasetVersion"
    },
    {
     "datasetId": 9366,
     "sourceId": 13206,
     "sourceType": "datasetVersion"
    },
    {
     "datasetId": 179555,
     "sourceId": 403916,
     "sourceType": "datasetVersion"
    },
    {
     "datasetId": 4549,
     "sourceId": 466349,
     "sourceType": "datasetVersion"
    },
    {
     "datasetId": 2478,
     "sourceId": 1151655,
     "sourceType": "datasetVersion"
    },
    {
     "datasetId": 10128,
     "sourceId": 5438389,
     "sourceType": "datasetVersion"
    }
   ],
   "isGpuEnabled": false,
   "isInternetEnabled": false,
   "language": "python",
   "sourceType": "notebook"
  },
  "kernelspec": {
   "display_name": "Python 3",
   "language": "python",
   "name": "python3"
  },
  "language_info": {
   "codemirror_mode": {
    "name": "ipython",
    "version": 3
   },
   "file_extension": ".py",
   "mimetype": "text/x-python",
   "name": "python",
   "nbconvert_exporter": "python",
   "pygments_lexer": "ipython3",
   "version": "3.10.14"
  },
  "papermill": {
   "default_parameters": {},
   "duration": 6.63666,
   "end_time": "2024-09-08T06:06:47.330880",
   "environment_variables": {},
   "exception": null,
   "input_path": "__notebook__.ipynb",
   "output_path": "__notebook__.ipynb",
   "parameters": {},
   "start_time": "2024-09-08T06:06:40.694220",
   "version": "2.6.0"
  }
 },
 "nbformat": 4,
 "nbformat_minor": 5
}
